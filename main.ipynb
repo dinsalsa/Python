{
 "cells": [
  {
   "cell_type": "code",
   "execution_count": null,
   "id": "8483f42f",
   "metadata": {},
   "outputs": [],
   "source": [
    "list_buku = []\n",
    "\n",
    "while True:\n",
    "    print(\"=\"*10, \"Masukkan Data Buku\", \"=\"*10)\n",
    "    Judul = input(\"Masukkan Judul Buku = \\t\")\n",
    "    Penulis = input(\"Masukkan Penulis Buku = \\t\")\n",
    "    \n",
    "    buku_baru = [Judul, Penulis]\n",
    "    list_buku.append(buku_baru)\n",
    "\n",
    "    for index, buku in enumerate(list_buku):\n",
    "        print(f\"{index} | {buku[0]} | {buku[1]}\")\n",
    "\n",
    "    isLanjut = input(\"Apakah ingin lanjut? (y/n) = \")\n",
    "\n",
    "    if isLanjut == \"n\":\n",
    "        break"
   ]
  }
 ],
 "metadata": {
  "language_info": {
   "name": "python"
  }
 },
 "nbformat": 4,
 "nbformat_minor": 5
}
